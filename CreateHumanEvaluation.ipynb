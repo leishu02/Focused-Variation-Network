{
 "cells": [
  {
   "cell_type": "code",
   "execution_count": 1,
   "metadata": {},
   "outputs": [],
   "source": [
    "import csv\n",
    "import json\n",
    "import os\n",
    "from collections import defaultdict"
   ]
  },
  {
   "cell_type": "code",
   "execution_count": 2,
   "metadata": {},
   "outputs": [],
   "source": [
    "folder = 'results/'\n",
    "remove_slot_value = True\n",
    "if remove_slot_value:\n",
    "    baselines = ['FVN-', 'FVN without Control', 'FVN']\n",
    "    files = ['simple_VQVAE_personage_LSTM_delex_CB512EL1TMT62', 'focused_VQVAE_personage_LSTM_delex_CB1024EL3TMT62', 'controlled_VQVAE_personage_LSTM_delex_CB1024EL3CC0d95TMT62']\n",
    "else:\n",
    "    baselines = ['FVN without Control', 'FVN']\n",
    "    files = ['focused_VQVAE_personage_LSTM_CB1024EL3TMT62', 'controlled_VQVAE_personage_LSTM_CB512EL1TMT62']"
   ]
  },
  {
   "cell_type": "code",
   "execution_count": 3,
   "metadata": {},
   "outputs": [],
   "source": [
    "def read_result_data(fn):\n",
    "    file = open(fn, 'r')\n",
    "    meta = []\n",
    "    while True:\n",
    "        line = file.readline()\n",
    "        if 'START_CSV_SECTION' in line:\n",
    "            break\n",
    "    meta.append(line)\n",
    "    reader = csv.DictReader(file)\n",
    "    data = [_ for _ in reader]\n",
    "    file.close()\n",
    "    return data\n",
    "\n",
    "def pack_dial(data):\n",
    "    dials = {}\n",
    "    for turn in data:\n",
    "        dial_id = int(turn['id'])\n",
    "        if dial_id not in dials:\n",
    "            dials[dial_id] = []\n",
    "        dials[dial_id].append(turn)\n",
    "    return dials\n",
    "\n",
    "def dump(dats):\n",
    "        for k, v in data.items():\n",
    "            dump_file.write('{}\\t{}\\n'.format(k, v))\n"
   ]
  },
  {
   "cell_type": "code",
   "execution_count": 4,
   "metadata": {},
   "outputs": [
    {
     "name": "stdout",
     "output_type": "stream",
     "text": [
      "FVN- simple_VQVAE_personage_LSTM_delex_CB512EL1TMT62 1390\n",
      "FVN without Control focused_VQVAE_personage_LSTM_delex_CB1024EL3TMT62 1390\n",
      "FVN controlled_VQVAE_personage_LSTM_delex_CB1024EL3CC0d95TMT62 1390\n"
     ]
    }
   ],
   "source": [
    "def cleantext(t):\n",
    "    s_tokens = ['<go> ', ' EOS']\n",
    "    for s in s_tokens:\n",
    "        t = t.replace(s, '')\n",
    "    return t\n",
    "\n",
    "output = defaultdict(dict)\n",
    "for baseline, file in zip(baselines, files):\n",
    "    data = read_result_data(folder+file+'.csv')\n",
    "    print (baseline, file, len(data))\n",
    "    for d in data:\n",
    "        _id = int(d['id'])\n",
    "        if  _id not in output:\n",
    "            output[_id]['id']=d['id']\n",
    "            output[_id]['slot_value']=d['slot_value']\n",
    "            output[_id]['personality']=d['personality']\n",
    "        if remove_slot_value:\n",
    "            output[_id]['ground_truth']=cleantext(d['delex_text'])\n",
    "            output[_id][baseline]=cleantext(d['pred_delex_text'])\n",
    "        else:\n",
    "            output[_id]['ground_truth']=cleantext(d['text'])\n",
    "            output[_id][baseline]=cleantext(d['pred_text'])\n",
    "        \n",
    "     "
   ]
  },
  {
   "cell_type": "code",
   "execution_count": 5,
   "metadata": {},
   "outputs": [],
   "source": [
    "if remove_slot_value:\n",
    "    result_file = open('delex_result4humanevaluation.csv', 'w')\n",
    "else:\n",
    "    result_file = open('nondelex_result4humanevaluation.csv', 'w')\n",
    "writer = csv.DictWriter(result_file, fieldnames=['id', 'slot_value', 'personality', 'ground_truth'] + baselines)\n",
    "writer.writeheader()\n",
    "for i, result in sorted(output.items()):\n",
    "    writer.writerow(result)\n",
    "result_file.close()   "
   ]
  },
  {
   "cell_type": "code",
   "execution_count": null,
   "metadata": {},
   "outputs": [],
   "source": []
  }
 ],
 "metadata": {
  "kernelspec": {
   "display_name": "p3-torch13",
   "language": "python",
   "name": "p3-torch13"
  },
  "language_info": {
   "codemirror_mode": {
    "name": "ipython",
    "version": 3
   },
   "file_extension": ".py",
   "mimetype": "text/x-python",
   "name": "python",
   "nbconvert_exporter": "python",
   "pygments_lexer": "ipython3",
   "version": "3.6.9"
  }
 },
 "nbformat": 4,
 "nbformat_minor": 4
}
