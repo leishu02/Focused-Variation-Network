{
 "cells": [
  {
   "cell_type": "code",
   "execution_count": 1,
   "metadata": {},
   "outputs": [],
   "source": [
    "import csv\n",
    "import json\n",
    "import os\n",
    "from collections import defaultdict"
   ]
  },
  {
   "cell_type": "code",
   "execution_count": 2,
   "metadata": {},
   "outputs": [],
   "source": [
    "folder = 'sheets/'\n",
    "remove_slot_value = False\n",
    "if remove_slot_value:\n",
    "    baselines = ['CVAE', 'Controlled CVAE', 'FVN-T', 'FVN-VQ', 'FVN-Control', 'FVN']\n",
    "    files = ['CVAE_personage_delex_EL1TMT62', 'controlled_CVAE_personage_delex_EL1TMT62','simple_seq2seq_personage_delex_EL1TMT62', 'simple_VQVAE_personage_LSTM_delex_CB512EL1TMT62', 'focused_VQVAE_personage_LSTM_delex_CB1024EL3TMT62', 'controlled_VQVAE_personage_LSTM_delex_CB1024EL3CC0d95TMT62']\n",
    "else:\n",
    "    baselines = ['CVAE', 'Controlled CVAE', 'FVN-T', 'FVN-VQ', 'FVN-Control', 'FVN']\n",
    "    files = ['CVAE_e2e_EL1TMT82', 'controlled_CVAE_e2e_EL1TMT82', 'simple_seq2seq_e2e_EL1TMT82', \n",
    "             'simple_VQVAE_e2e_LSTM_CB4096EL3TMT82', 'focused_VQVAE_e2e_LSTM_CB4096EL3TMT82',\n",
    "            'controlled_VQVAE_e2e_LSTM_CB2046EL3CC0d25TMT82']"
   ]
  },
  {
   "cell_type": "code",
   "execution_count": 4,
   "metadata": {},
   "outputs": [],
   "source": [
    "style = ['macro_precision', 'macro_recall', 'macro_fscore']\n",
    "success = ['success_precision', 'success_recall', 'success_fscore']\n",
    "diversity = ['pred_1-gram', 'pred_2-gram', 'pred_3-gram', 'pred_4-gram']\n",
    "gt_diversity = ['gt_1-gram', 'gt_2-gram', 'gt_3-gram', 'gt_4-gram']\n",
    "e2e = ['BLEU', 'NIST', 'METEOR', 'ROUGE_L']\n",
    "\n",
    "style_table ={b:[] for b in baselines}\n",
    "success_table = {b:[] for b in baselines}\n",
    "diversity_table = {b:[] for b in baselines}\n",
    "e2e_table = {b:[] for b in baselines}\n",
    "gt_diversity_table = []\n",
    "\n",
    "for baseline, file in zip(baselines, files):\n",
    "    fn = folder+file+'.report.txt'\n",
    "    data = open(fn, 'r')\n",
    "    data.readline()\n",
    "    result = {}\n",
    "    while True:\n",
    "        line = data.readline()\n",
    "        if '\\t' in line:\n",
    "            metric, score = line.split('\\t')\n",
    "            #print (metric, score)\n",
    "            result[metric] = str(round(float(score), 3))\n",
    "        else:\n",
    "            break\n",
    "        \n",
    "    #for metric, table in zip([style, success, diversity, e2e], [style_table, success_table, diversity_table, e2e_table]):\n",
    "    for metric, table in zip([diversity, e2e], [diversity_table, e2e_table]):    \n",
    "        for m in metric:\n",
    "            table[baseline].append(result[m])\n",
    "    if gt_diversity_table == []:\n",
    "        for m in gt_diversity:\n",
    "            gt_diversity_table.append(result[m])"
   ]
  },
  {
   "cell_type": "code",
   "execution_count": 5,
   "metadata": {},
   "outputs": [
    {
     "name": "stdout",
     "output_type": "stream",
     "text": [
      "diversity\n",
      "ground truth \t& 0.878\t&0.949\t&0.915\t&0.876\n",
      "CVAE \t& 0.82\t&0.927\t&0.895\t&0.849\n",
      "Controlled CVAE \t& 0.816\t&0.92\t&0.891\t&0.847\n",
      "FVN-T \t& 0.713\t&0.867\t&0.882\t&0.861\n",
      "FVN-VQ \t& 0.806\t&0.941\t&0.929\t&0.893\n",
      "FVN-Control \t& 0.734\t&0.887\t&0.891\t&0.868\n",
      "FVN \t& 0.751\t&0.901\t&0.899\t&0.877\n",
      "\n",
      "\n",
      "e2e\n",
      "CVAE \t& 0.322\t&5.808\t&0.287\t&0.481\n",
      "Controlled CVAE \t& 0.35\t&6.165\t&0.296\t&0.492\n",
      "FVN-T \t& 0.524\t&7.426\t&0.373\t&0.609\n",
      "FVN-VQ \t& 0.255\t&4.53\t&0.192\t&0.417\n",
      "FVN-Control \t& 0.513\t&7.416\t&0.354\t&0.576\n",
      "FVN \t& 0.454\t&6.75\t&0.335\t&0.562\n",
      "\n",
      "\n"
     ]
    }
   ],
   "source": [
    "#for table, m in zip([style_table, success_table, diversity_table, e2e_table], ['style', 'success', 'diversity', 'e2e']):\n",
    "for table, m in zip([diversity_table, e2e_table], ['diversity', 'e2e']):\n",
    "    print (m)\n",
    "    if m == 'diversity':\n",
    "        print ('ground truth','\\t&', '\\t&'.join(gt_diversity_table) )\n",
    "    for b in baselines:\n",
    "        print (b,'\\t&', '\\t&'.join(table[b]))\n",
    "\n",
    "    print ('\\n')"
   ]
  },
  {
   "cell_type": "code",
   "execution_count": null,
   "metadata": {},
   "outputs": [],
   "source": []
  }
 ],
 "metadata": {
  "kernelspec": {
   "display_name": "p3-torch13",
   "language": "python",
   "name": "p3-torch13"
  },
  "language_info": {
   "codemirror_mode": {
    "name": "ipython",
    "version": 3
   },
   "file_extension": ".py",
   "mimetype": "text/x-python",
   "name": "python",
   "nbconvert_exporter": "python",
   "pygments_lexer": "ipython3",
   "version": "3.6.9"
  }
 },
 "nbformat": 4,
 "nbformat_minor": 4
}
