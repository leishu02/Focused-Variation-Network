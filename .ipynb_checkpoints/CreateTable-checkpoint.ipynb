{
 "cells": [
  {
   "cell_type": "code",
   "execution_count": 1,
   "metadata": {},
   "outputs": [],
   "source": [
    "import csv\n",
    "import json\n",
    "import os\n",
    "from collections import defaultdict"
   ]
  },
  {
   "cell_type": "code",
   "execution_count": 30,
   "metadata": {},
   "outputs": [],
   "source": [
    "folder = 'sheets/'\n",
    "remove_slot_value = True\n",
    "if remove_slot_value:\n",
    "    baselines = ['CVAE', 'Controlled CVAE', 'FVN-VQ', 'FVN-Control', 'FVN']\n",
    "    files = ['CVAE_personage_delex_EL1TMT62', 'controlled_CVAE_personage_delex_EL1TMT62', 'simple_VQVAE_personage_LSTM_delex_CB512EL1TMT62', 'focused_VQVAE_personage_LSTM_delex_CB1024EL3TMT62', 'controlled_VQVAE_personage_LSTM_delex_CB1024EL3CC0d95TMT62']\n",
    "else:\n",
    "    baselines = ['FVN without Control', 'FVN']\n",
    "    files = ['focused_VQVAE_personage_LSTM_CB1024EL3TMT62', 'controlled_VQVAE_personage_LSTM_CB512EL1TMT62']"
   ]
  },
  {
   "cell_type": "code",
   "execution_count": 36,
   "metadata": {},
   "outputs": [],
   "source": [
    "style = ['macro_precision', 'macro_recall', 'macro_fscore']\n",
    "success = ['success_precision', 'success_recall', 'success_fscore']\n",
    "diversity = ['pred_1-gram', 'pred_2-gram', 'pred_3-gram', 'pred_4-gram']\n",
    "gt_diversity = ['gt_1-gram', 'gt_2-gram', 'gt_3-gram', 'gt_4-gram']\n",
    "e2e = ['BLEU', 'NIST', 'METEOR', 'ROUGE_L']\n",
    "\n",
    "style_table ={b:[] for b in baselines}\n",
    "success_table = {b:[] for b in baselines}\n",
    "diversity_table = {b:[] for b in baselines}\n",
    "e2e_table = {b:[] for b in baselines}\n",
    "gt_diversity_table = []\n",
    "\n",
    "for baseline, file in zip(baselines, files):\n",
    "    fn = folder+file+'.report.txt'\n",
    "    data = open(fn, 'r')\n",
    "    data.readline()\n",
    "    result = {}\n",
    "    while True:\n",
    "        line = data.readline()\n",
    "        if '\\t' in line:\n",
    "            metric, score = line.split('\\t')\n",
    "            #print (metric, score)\n",
    "            result[metric] = str(round(float(score), 3))\n",
    "        else:\n",
    "            break\n",
    "        \n",
    "    for metric, table in zip([style, success, diversity, e2e], [style_table, success_table, diversity_table, e2e_table]):\n",
    "        for m in metric:\n",
    "            table[baseline].append(result[m])\n",
    "    if gt_diversity_table == []:\n",
    "        for m in gt_diversity:\n",
    "            gt_diversity_table.append(result[m])"
   ]
  },
  {
   "cell_type": "code",
   "execution_count": 37,
   "metadata": {},
   "outputs": [
    {
     "name": "stdout",
     "output_type": "stream",
     "text": [
      "style\n",
      "CVAE \t& 0.973\t&0.973\t&0.973\n",
      "Controlled CVAE \t& 0.981\t&0.981\t&0.981\n",
      "FVN-VQ \t& 0.996\t&0.996\t&0.996\n",
      "FVN-Control \t& 0.996\t&0.996\t&0.996\n",
      "FVN \t& 0.999\t&0.999\t&0.999\n",
      "\n",
      "\n",
      "success\n",
      "CVAE \t& 0.961\t&0.942\t&0.952\n",
      "Controlled CVAE \t& 0.961\t&0.969\t&0.965\n",
      "FVN-VQ \t& 0.96\t&0.664\t&0.785\n",
      "FVN-Control \t& 0.963\t&0.989\t&0.976\n",
      "FVN \t& 0.961\t&0.994\t&0.977\n",
      "\n",
      "\n",
      "diversity\n",
      "ground truth \t& 0.74\t&0.902\t&0.924\t&0.905\n",
      "CVAE \t& 0.738\t&0.896\t&0.919\t&0.902\n",
      "Controlled CVAE \t& 0.715\t&0.869\t&0.902\t&0.899\n",
      "FVN-VQ \t& 0.836\t&0.922\t&0.903\t&0.862\n",
      "FVN-Control \t& 0.738\t&0.883\t&0.907\t&0.901\n",
      "FVN \t& 0.72\t&0.87\t&0.906\t&0.904\n",
      "\n",
      "\n"
     ]
    }
   ],
   "source": [
    "for table, m in zip([style_table, success_table, diversity_table, e2e_table], ['style', 'success', 'diversity', 'e2e']):\n",
    "    print (m)\n",
    "    if m == 'diversity':\n",
    "        print ('ground truth','\\t&', '\\t&'.join(gt_diversity_table) )\n",
    "    for b in baselines:\n",
    "        print (b,'\\t&', '\\t&'.join(table[b]))\n",
    "\n",
    "    print ('\\n')"
   ]
  },
  {
   "cell_type": "code",
   "execution_count": 33,
   "metadata": {},
   "outputs": [
    {
     "name": "stdout",
     "output_type": "stream",
     "text": [
      "{'CVAE': ['0.738', '0.896', '0.919', '0.902'], 'Controlled CVAE': ['0.715', '0.869', '0.902', '0.899'], 'FVN-VQ': ['0.836', '0.922', '0.903', '0.862'], 'FVN-Control': ['0.738', '0.883', '0.907', '0.901'], 'FVN': ['0.72', '0.87', '0.906', '0.904']}\n"
     ]
    }
   ],
   "source": [
    "print (diversity_table)"
   ]
  },
  {
   "cell_type": "code",
   "execution_count": null,
   "metadata": {},
   "outputs": [],
   "source": []
  }
 ],
 "metadata": {
  "kernelspec": {
   "display_name": "p3-torch13",
   "language": "python",
   "name": "p3-torch13"
  },
  "language_info": {
   "codemirror_mode": {
    "name": "ipython",
    "version": 3
   },
   "file_extension": ".py",
   "mimetype": "text/x-python",
   "name": "python",
   "nbconvert_exporter": "python",
   "pygments_lexer": "ipython3",
   "version": "3.6.9"
  }
 },
 "nbformat": 4,
 "nbformat_minor": 4
}
